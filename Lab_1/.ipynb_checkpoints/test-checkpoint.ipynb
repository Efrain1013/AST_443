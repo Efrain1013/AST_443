{
 "cells": [
  {
   "cell_type": "markdown",
   "id": "9394d892-8b5a-4d46-8f8c-e9bcf3aaa5ef",
   "metadata": {},
   "source": [
    "New test!!\n",
    "\n",
    "$$\n",
    "a^2 + b^2 = c^2\n",
    "$$"
   ]
  },
  {
   "cell_type": "markdown",
   "id": "67716c3c-a3ce-48e1-ad53-7fb9ae179321",
   "metadata": {},
   "source": []
  }
 ],
 "metadata": {
  "kernelspec": {
   "display_name": "Python 3 (ipykernel)",
   "language": "python",
   "name": "python3"
  },
  "language_info": {
   "codemirror_mode": {
    "name": "ipython",
    "version": 3
   },
   "file_extension": ".py",
   "mimetype": "text/x-python",
   "name": "python",
   "nbconvert_exporter": "python",
   "pygments_lexer": "ipython3",
   "version": "3.9.6"
  }
 },
 "nbformat": 4,
 "nbformat_minor": 5
}
