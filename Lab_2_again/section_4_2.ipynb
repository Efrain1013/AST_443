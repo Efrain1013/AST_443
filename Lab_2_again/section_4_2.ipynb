{
 "cells": [
  {
   "cell_type": "markdown",
   "id": "8a65f977-cb28-493c-94bd-ac5316ac11ba",
   "metadata": {},
   "source": [
    "The following bash script iterates over all of our science data, solving for WCS using **astrometry.net** and using XO-2N's RA/Dec as an initial guess."
   ]
  },
  {
   "cell_type": "code",
   "execution_count": null,
   "id": "bd22cf47-6eb1-432f-90f6-b65c115c5310",
   "metadata": {},
   "outputs": [],
   "source": [
    "#! /bin/bash -u                                                                 \n",
    "\n",
    "for file in $(ls -1 *.FIT)\n",
    "do\n",
    "   solve-field --ra 117.082 --dec 50.298 --radius 2 ${file}\n",
    "done"
   ]
  },
  {
   "cell_type": "code",
   "execution_count": null,
   "id": "52e54f8c-3572-420e-99ef-691fc25be4a3",
   "metadata": {},
   "outputs": [],
   "source": []
  }
 ],
 "metadata": {
  "kernelspec": {
   "display_name": "Python 3 (ipykernel)",
   "language": "python",
   "name": "python3"
  },
  "language_info": {
   "codemirror_mode": {
    "name": "ipython",
    "version": 3
   },
   "file_extension": ".py",
   "mimetype": "text/x-python",
   "name": "python",
   "nbconvert_exporter": "python",
   "pygments_lexer": "ipython3",
   "version": "3.9.6"
  }
 },
 "nbformat": 4,
 "nbformat_minor": 5
}
