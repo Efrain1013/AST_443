{
 "cells": [
  {
   "cell_type": "markdown",
   "id": "c9f73954",
   "metadata": {},
   "source": [
    "## Section 4.1"
   ]
  },
  {
   "cell_type": "code",
   "execution_count": 2,
   "id": "0f1ff651",
   "metadata": {},
   "outputs": [],
   "source": [
    "import numpy as np\n",
    "import matplotlib.pyplot as plt\n",
    "from astropy.io import fits\n",
    "from scipy import stats\n",
    "import os\n",
    "\n",
    "cwd = os.getcwd()\n",
    "if cwd[-11:] != \"Lab_2_again\":\n",
    "    os.chdir(\"/Users/efrainmartinez/Downloads/SBU/SBU_Spring_2024_Semester/AST443/Labs/AST_443/Lab_2_again\")\n"
   ]
  },
  {
   "cell_type": "code",
   "execution_count": null,
   "id": "715e473e",
   "metadata": {},
   "outputs": [],
   "source": [
    "dark_30s_prefix = \"dark_30sec_.00000\"\n",
    "dark_30s_end = \".DARK.FIT\"\n",
    "dark_30s_data = []\n",
    "for i in range(285, 295, 1):\n",
    "        filename = dark_30s_prefix + str(i) + dark_30s_end\n",
    "        list = fits.open('dark_frames/'+filename)\n",
    "        image_data = list[0].data\n",
    "        dark_30s_data.append(image_data)\n",
    "        \n",
    "flat_ad_prefix = \"flat_field_ad_.0000000\"\n",
    "flat_ad_end = \".FIT\"\n",
    "flat_ad_data = []\n",
    "for i in range(0, 10):\n",
    "    filename = flat_ad_prefix + str(i) + flat_ad_end\n",
    "    list = fits.open('flat_fields/'+filename)\n",
    "    image_data = list[0].data\n",
    "    flat_ad_data.append(image_data)"
   ]
  },
  {
   "cell_type": "code",
   "execution_count": null,
   "id": "824874a0",
   "metadata": {},
   "outputs": [],
   "source": [
    "median_dark_30s = np.median(dark_30s_data, axis=0)\n",
    "\n",
    "median_flat_ad = np.median(flat_ad_data, axis=0)\n",
    "median = np.median(median_flat_ad)\n",
    "norm_flat_ad = median_flat_ad / median\n",
    "\n",
    "# flatten_norm_flat_ad = norm_flat_ad.flatten()\n",
    "# mean = np.mean(flatten_norm_flat_ad)\n",
    "# std = stats.tstd(flatten_norm_flat_ad)\n",
    "# plt.imshow(norm_flat_ad, cmap='gray', vmin = mean-3*std, vmax=mean+3*std)\n",
    "# plt.colorbar()"
   ]
  },
  {
   "cell_type": "code",
   "execution_count": null,
   "id": "80fc9654",
   "metadata": {},
   "outputs": [],
   "source": [
    "image_30s_prefix = \"exposure_30sec.00000\"\n",
    "image_30s_end = \".FIT\"\n",
    "image_30s_data = []\n",
    "for i in range(0, 284):\n",
    "    if i < 10:\n",
    "        filename = image_30s_prefix + \"00\" + str(i) + image_30s_end\n",
    "        list = fits.open('images/'+filename)\n",
    "        image_data = list[0].data\n",
    "        image_30s_data.append(image_data)\n",
    "    elif i<100:\n",
    "        filename = image_30s_prefix + \"0\" + str(i) + image_30s_end\n",
    "        list = fits.open('images/'+filename)\n",
    "        image_data = list[0].data\n",
    "        image_30s_data.append(image_data)\n",
    "    else:\n",
    "        filename = image_30s_prefix + str(i) + image_30s_end\n",
    "        list = fits.open('images/'+filename)\n",
    "        image_data = list[0].data\n",
    "        image_30s_data.append(image_data)\n",
    "        \n",
    "with fits.open('images/exposure_30sec.00000000.FIT') as hdul:\n",
    "               print(repr(hdul[0].header))"
   ]
  },
  {
   "cell_type": "code",
   "execution_count": null,
   "id": "3406ec78",
   "metadata": {},
   "outputs": [],
   "source": [
    "final_30s_data = []\n",
    "\n",
    "for i in range(0, len(image_30s_data)):\n",
    "    final_30s_data.append((image_30s_data[i]-median_dark_30s) / norm_flat_ad)\n",
    "\n",
    "flattened = final_30s_data[0].flatten()\n",
    "mean_final = np.mean(flattened)\n",
    "std_final = stats.tstd(flattened)\n",
    "plt.imshow(final_30s_data[0], cmap = 'gray', vmin = mean_final-3*std_final, vmax=mean_final+3*std_final)\n",
    "plt.colorbar()"
   ]
  },
  {
   "cell_type": "code",
   "execution_count": null,
   "id": "82a93ec4",
   "metadata": {},
   "outputs": [],
   "source": [
    "final_30s_data = []\n",
    "\n",
    "for i in range(0, len(image_30s_data)):\n",
    "    final_30s_data.append((image_30s_data[i]-median_dark_30s) / norm_flat_ad)\n",
    "\n",
    "flattened = final_30s_data[0].flatten()\n",
    "mean_final = np.mean(flattened)\n",
    "std_final = stats.tstd(flattened)\n",
    "plt.imshow(final_30s_data[0], cmap = 'gray', vmin = mean_final-3*std_final, vmax=mean_final+3*std_final)\n",
    "plt.colorbar()"
   ]
  },
  {
   "cell_type": "code",
   "execution_count": null,
   "id": "c0ed277d",
   "metadata": {},
   "outputs": [],
   "source": [
    "with fits.open('calib_30s.000.FIT') as hdul:\n",
    "    data = hdul[0].data\n",
    "    print(repr(hdul[0].header))\n",
    "flat_data = data.flatten()\n",
    "mean_data = np.mean(flat_data)\n",
    "std_data = stats.tstd(flat_data)\n",
    "\n",
    "plt.imshow(data, cmap='gray', vmin = mean_data - 3*std_data, vmax = mean_data + 3*std_data)\n",
    "plt.colorbar()"
   ]
  }
 ],
 "metadata": {
  "kernelspec": {
   "display_name": "Python 3 (ipykernel)",
   "language": "python",
   "name": "python3"
  },
  "language_info": {
   "codemirror_mode": {
    "name": "ipython",
    "version": 3
   },
   "file_extension": ".py",
   "mimetype": "text/x-python",
   "name": "python",
   "nbconvert_exporter": "python",
   "pygments_lexer": "ipython3",
   "version": "3.9.13"
  }
 },
 "nbformat": 4,
 "nbformat_minor": 5
}
