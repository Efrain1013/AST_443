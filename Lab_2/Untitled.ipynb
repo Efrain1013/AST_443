{
 "cells": [
  {
   "cell_type": "code",
   "execution_count": 2,
   "id": "c375b2e7",
   "metadata": {},
   "outputs": [
    {
     "name": "stdout",
     "output_type": "stream",
     "text": [
      "SIMPLE  =                    T/CCDSOFT-SOFTWARE BISQUE 3                        \n",
      "BITPIX  =                   16                                                  \n",
      "NAXIS   =                    2                                                  \n",
      "NAXIS1  =                 1024                                                  \n",
      "NAXIS2  =                 1024                                                  \n",
      "BSCALE  = +1.000000000000E+000                                                  \n",
      "BZERO   = +3.276800000000E+004                                                  \n",
      "BIAS    =                  100                                                  \n",
      "FOCALLEN= +0.000000000000E+000                                                  \n",
      "APTAREA = +0.000000000000E+000                                                  \n",
      "APTDIA  = +0.000000000000E+000                                                  \n",
      "OBSERVER= 'Anja                '                                                \n",
      "DATE-OBS= '2024-02-08T01:41:10.010'                                             \n",
      "TIME-OBS= '01:41:10.010        '                                                \n",
      "SWCREATE= 'CCDSoft Version 5.00.218'                                            \n",
      "SET-TEMP= -5.000000000000E+000                                                  \n",
      "COLORCCD=                    0                                                  \n",
      "DISPCOLR=                    1                                                  \n",
      "IMAGETYP= 'Light Frame         '                                                \n",
      "CCDSFPT =                    1                                                  \n",
      "XORGSUBF=                    0                                                  \n",
      "YORGSUBF=                    0                                                  \n",
      "CCDSUBFL=                    0                                                  \n",
      "CCDSUBFT=                    0                                                  \n",
      "XBINNING=                    1                                                  \n",
      "CCDXBIN =                    1                                                  \n",
      "YBINNING=                    1                                                  \n",
      "CCDYBIN =                    1                                                  \n",
      "EXPSTATE=                  293                                                  \n",
      "CCD-TEMP= -5.232156845990E+000                                                  \n",
      "TEMPERAT= -5.232156845990E+000                                                  \n",
      "INSTRUME= 'SBIG STL-1001 3 CCD Camera'                                          \n",
      "EGAIN   = +2.060000000000E+000                                                  \n",
      "E-GAIN  = +2.060000000000E+000                                                  \n",
      "XPIXSZ  = +2.400000000000E+001                                                  \n",
      "YPIXSZ  = +2.400000000000E+001                                                  \n",
      "SBIGIMG =                   18                                                  \n",
      "USER_2  = 'SBIG STL-1001 3 CCD Camera'                                          \n",
      "DATAMAX =                65535                                                  \n",
      "SBSTDVER= 'SBFITSEXT Version 1.0'                                               \n",
      "FILTER  = 'Red                 '                                                \n",
      "EXPTIME = +3.000000000000E-001                                                  \n",
      "EXPOSURE= +3.000000000000E-001                                                  \n",
      "CBLACK  =                23576                                                  \n",
      "CWHITE  =                25265                                                  \n"
     ]
    }
   ],
   "source": [
    "from astropy.io import fits\n",
    "\n",
    "with fits.open(\"images/flat_field_ad_.00000001.FIT\") as hdul:\n",
    "    print(repr(hdul[0].header))"
   ]
  },
  {
   "cell_type": "code",
   "execution_count": null,
   "id": "f8711c1c",
   "metadata": {},
   "outputs": [],
   "source": []
  }
 ],
 "metadata": {
  "kernelspec": {
   "display_name": "Python 3 (ipykernel)",
   "language": "python",
   "name": "python3"
  },
  "language_info": {
   "codemirror_mode": {
    "name": "ipython",
    "version": 3
   },
   "file_extension": ".py",
   "mimetype": "text/x-python",
   "name": "python",
   "nbconvert_exporter": "python",
   "pygments_lexer": "ipython3",
   "version": "3.9.13"
  }
 },
 "nbformat": 4,
 "nbformat_minor": 5
}
