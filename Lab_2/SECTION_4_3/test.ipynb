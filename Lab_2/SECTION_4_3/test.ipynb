{
 "cells": [
  {
   "cell_type": "code",
   "execution_count": 17,
   "id": "3f770d64-9b3f-4eac-9296-3e2eb6a83646",
   "metadata": {},
   "outputs": [
    {
     "name": "stdout",
     "output_type": "stream",
     "text": [
      "SIMPLE  =                    T / conforms to FITS standard                      BITPIX  =                  -64 / array data type                                NAXIS   =                    2 / number of array dimensions                     NAXIS1  =                 1024                                                  NAXIS2  =                 1024                                                  EXTEND  =                    T                                                  COMMENT Original key: \"END\"                                                     COMMENT                                                                         COMMENT --Start of Astrometry.net WCS solution--                                COMMENT --Put in by the new-wcs program--                                       COMMENT                                                                         WCSAXES =                    2 / no comment                                     CTYPE1  = 'RA---TAN-SIP' / TAN (gnomic) projection + SIP distortions            CTYPE2  = 'DEC--TAN-SIP' / TAN (gnomic) projection + SIP distortions            EQUINOX =               2000.0 / Equatorial coordinates definition (yr)         LONPOLE =                180.0 / no comment                                     LATPOLE =                  0.0 / no comment                                     CRVAL1  =        117.000754055 / RA  of reference point                         CRVAL2  =        50.1209622439 / DEC of reference point                         CRPIX1  =        325.594995499 / X reference pixel                              CRPIX2  =        491.649280548 / Y reference pixel                              CUNIT1  = 'deg     ' / X pixel scale units                                      CUNIT2  = 'deg     ' / Y pixel scale units                                      CD1_1   =    0.000142726274855 / Transformation matrix                          CD1_2   =   -0.000390624354908 / no comment                                     CD2_1   =    0.000390586039789 / no comment                                     CD2_2   =     0.00014248180354 / no comment                                     IMAGEW  =                 1024 / Image width,  in pixels.                       IMAGEH  =                 1024 / Image height, in pixels.                       A_ORDER =                    2 / Polynomial order, axis 1                       A_0_0   =                    0 / no comment                                     A_0_1   =                    0 / no comment                                     A_0_2   =   -2.09031335306E-06 / no comment                                     A_1_0   =                    0 / no comment                                     A_1_1   =    8.98870705513E-07 / no comment                                     A_2_0   =   -1.49028606748E-06 / no comment                                     B_ORDER =                    2 / Polynomial order, axis 2                       B_0_0   =                    0 / no comment                                     B_0_1   =                    0 / no comment                                     B_0_2   =      7.415434462E-07 / no comment                                     B_1_0   =                    0 / no comment                                     B_1_1   =    9.17203604251E-07 / no comment                                     B_2_0   =    9.03590018507E-08 / no comment                                     AP_ORDER=                    2 / Inv polynomial order, axis 1                   AP_0_0  =   -0.000158020879139 / no comment                                     AP_0_1  =   -1.06973464656E-06 / no comment                                     AP_0_2  =    2.09073121978E-06 / no comment                                     AP_1_0  =    6.77637612848E-07 / no comment                                     AP_1_1  =   -9.00043950607E-07 / no comment                                     AP_2_0  =    1.49274211377E-06 / no comment                                     BP_ORDER=                    2 / Inv polynomial order, axis 2                   BP_0_0  =   -3.53744714772E-05 / no comment                                     BP_0_1  =   -1.68723458566E-07 / no comment                                     BP_0_2  =   -7.41129121395E-07 / no comment                                     BP_1_0  =    2.21378079869E-07 / no comment                                     BP_1_1  =   -9.17187871623E-07 / no comment                                     BP_2_0  =   -9.04686242641E-08 / no comment                                     HISTORY Created by the Astrometry.net suite.                                    HISTORY For more details, see http://astrometry.net.                            HISTORY Git URL https://github.com/dstndstn/astrometry.net                      HISTORY Git revision 0.94                                                       HISTORY Git date Mon_May_1_11:19:51_2023_-0400                                  HISTORY This is a WCS header was created by Astrometry.net.                     DATE    = '2024-02-22T23:35:59' / Date this file was created.                   COMMENT -- onefield solver parameters: --                                       COMMENT Index(0):                                                               COMMENT   /opt/homebrew/Cellar/astrometry-net/0.94_3/data/index-5206            COMMENT   -05.fits                                                              COMMENT Field name: ./calib_red_20s.000.axy                                     COMMENT Field scale lower: 0.351562 arcsec/pixel                                COMMENT Field scale upper: 632.812 arcsec/pixel                                 COMMENT X col name: X                                                           COMMENT Y col name: Y                                                           COMMENT Start obj: 0                                                            COMMENT End obj: 10                                                             COMMENT Solved_in: (null)                                                       COMMENT Solved_out: ./calib_red_20s.000.solved                                  COMMENT Parity: 2                                                               COMMENT Codetol: 0.01                                                           COMMENT Verify pixels: 1 pix                                                    COMMENT Maxquads: 0                                                             COMMENT Maxmatches: 0                                                           COMMENT Cpu limit: 300.000000 s                                                 COMMENT Time limit: 0 s                                                         COMMENT Total time limit: 0 s                                                   COMMENT Total CPU limit: 300.000000 s                                           COMMENT Tweak: yes                                                              COMMENT Tweak AB order: 2                                                       COMMENT Tweak ABP order: 2                                                      COMMENT --                                                                      COMMENT -- properties of the matching quad: --                                  COMMENT index id: 5206                                                          COMMENT index healpix: 5                                                        COMMENT index hpnside: 2                                                        COMMENT log odds: 224.234                                                       COMMENT odds: 2.4192e+97                                                        COMMENT quadno: 73657                                                           COMMENT stars: 79406,71825,71830,71837                                          COMMENT field: 0,5,1,2                                                          COMMENT code error: 0.000677734                                                 COMMENT nmatch: 31                                                              COMMENT nconflict: 0                                                            COMMENT nfield: 178                                                             COMMENT nindex: 31                                                              COMMENT scale: 1.49696 arcsec/pix                                               COMMENT parity: 1                                                               COMMENT quads tried: 2                                                          COMMENT quads matched: 1                                                        COMMENT quads verified: 0                                                       COMMENT objs tried: 6                                                           COMMENT cpu time: 0.000525                                                      COMMENT --                                                                      COMMENT                                                                         COMMENT --End of Astrometry.net WCS--                                           COMMENT --(Put in by the new-wcs program)--                                     COMMENT                                                                         END                                                                                                                                                                                                                                                                                                                                                                                                                                                                                                                                                                                                                                                                                                                                                                                                                                                                                                                                                                                                                                                                                                                                                                                                                                                                                                                                                                                                                                                                                                                                                                                                                                                                                                                                                                                                                                                                                                                                                                                                                                                                                                                                                                                                                                                                                                                             \n"
     ]
    }
   ],
   "source": [
    "from astropy.io import fits\n",
    "\n",
    "\n",
    "image = fits.open('solved_calibrated_files/calib_red_20s.000.new')\n",
    "\n",
    "hdr = image[0].header\n",
    "print(hdr)"
   ]
  },
  {
   "cell_type": "code",
   "execution_count": 16,
   "id": "fb810c6d-07fb-44eb-9f32-0d8176a17974",
   "metadata": {},
   "outputs": [],
   "source": [
    "import os\n",
    "import numpy as np\n",
    "from astropy.io import fits\n",
    "\n",
    "# Get a list of all files in the directory\n",
    "file_list = os.listdir('sextractor')\n",
    "\n",
    "# Filter and sort files numerically based on the number part before the extension\n",
    "file_list = [file_name for file_name in file_list if file_name.startswith('calib_red_20s') and file_name.endswith('.cat')]\n",
    "file_list.sort(key=lambda x: int(x.split('.')[-3].split('_')[-1]))\n",
    "\n",
    "# Open the data file for writing\n",
    "with open('data.dat', 'w') as f:\n",
    "    # Iterate over each file in the directory\n",
    "    for file_name in file_list:\n",
    "        # Extract file number\n",
    "        file_number = file_name.split('.')[-3].split('_')[-1]\n",
    "\n",
    "        # Extract time of observation from FITS header\n",
    "        fits_file_path = os.path.join('solved_calibrated_files', 'calib_red_20s.' + file_number + '.new')\n",
    "        with fits.open(fits_file_path) as hdul:\n",
    "            header = hdul[0].header\n",
    "            time_of_observation = header['BITPIX']\n",
    "\n",
    "        # Load data from file\n",
    "        data = np.loadtxt(os.path.join('sextractor', file_name))\n",
    "\n",
    "        # Extract columns from the data\n",
    "        x_pix = data[:, 1]\n",
    "        right_ascensions = data[:, 3]\n",
    "        decs = data[:, 4]\n",
    "        flux = data[:, 5]\n",
    "        flux_err = data[:, 6]\n",
    "\n",
    "        # Define masks for right ascensions and declinations\n",
    "        ra_mask = (right_ascensions < 117.0285) & (right_ascensions > 117.0266)\n",
    "        dec_mask = (decs < 50.227) & (decs > 50.223)\n",
    "\n",
    "        # Combine masks using logical AND\n",
    "        combined_mask = ra_mask & dec_mask\n",
    "\n",
    "        # Apply the combined mask to get the indices where the condition is True\n",
    "        indices = np.where(combined_mask)\n",
    "\n",
    "        # Extract the values based on the combined mask\n",
    "        xo_flux = flux[indices]\n",
    "        xo_flux_err = flux_err[indices]\n",
    "\n",
    "        # Stack flux and flux error horizontally\n",
    "        stacked_data = np.column_stack((xo_flux, xo_flux_err))\n",
    "\n",
    "        # Write the file name, time of observation, and the stacked data to the data file\n",
    "        f.write(f\"{time_of_observation}\\n\")\n",
    "        np.savetxt(f, stacked_data)\n",
    "        f.write('\\n')\n"
   ]
  },
  {
   "cell_type": "code",
   "execution_count": null,
   "id": "b6dca1b1-8694-4aa1-a662-da5fef8d10ba",
   "metadata": {},
   "outputs": [],
   "source": []
  }
 ],
 "metadata": {
  "kernelspec": {
   "display_name": "Python 3 (ipykernel)",
   "language": "python",
   "name": "python3"
  },
  "language_info": {
   "codemirror_mode": {
    "name": "ipython",
    "version": 3
   },
   "file_extension": ".py",
   "mimetype": "text/x-python",
   "name": "python",
   "nbconvert_exporter": "python",
   "pygments_lexer": "ipython3",
   "version": "3.9.6"
  }
 },
 "nbformat": 4,
 "nbformat_minor": 5
}
