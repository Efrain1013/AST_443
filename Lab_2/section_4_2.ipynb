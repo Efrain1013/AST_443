{
 "cells": [
  {
   "cell_type": "markdown",
   "id": "8a65f977-cb28-493c-94bd-ac5316ac11ba",
   "metadata": {},
   "source": [
    "The following bash script iterates over all of our science data, solving for WCS using **astrometry.net** and using XO-2N's RA/Dec as an initial guess."
   ]
  },
  {
   "cell_type": "code",
   "execution_count": null,
   "id": "760e21da-ba4b-4b18-a4db-4cae05563fce",
   "metadata": {},
   "outputs": [],
   "source": [
    "#! /bin/bash -u                                                                 \n",
    "\n",
    "for file in $(ls -1 *.FIT)\n",
    "do\n",
    "   solve-field --ra 117.082 --dec 50.298 --radius 2 ${file}\n",
    "done"
   ]
  },
  {
   "cell_type": "code",
   "execution_count": null,
   "id": "d93ed74e-e58a-4d29-823b-2f502f0a5e8d",
   "metadata": {},
   "outputs": [],
   "source": []
  }
 ],
 "metadata": {
  "kernelspec": {
   "display_name": "Python 3 (ipykernel)",
   "language": "python",
   "name": "python3"
  },
  "language_info": {
   "codemirror_mode": {
    "name": "ipython",
    "version": 3
   },
   "file_extension": ".py",
   "mimetype": "text/x-python",
   "name": "python",
   "nbconvert_exporter": "python",
   "pygments_lexer": "ipython3",
   "version": "3.9.6"
  }
 },
 "nbformat": 4,
 "nbformat_minor": 5
}
