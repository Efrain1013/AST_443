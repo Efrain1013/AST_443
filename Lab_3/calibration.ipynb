{
 "cells": [
  {
   "cell_type": "code",
   "execution_count": 83,
   "id": "245ef332",
   "metadata": {},
   "outputs": [],
   "source": [
    "import numpy as np\n",
    "import matplotlib.pyplot as plt\n",
    "from astropy.io import fits\n",
    "from scipy import stats\n",
    "import os\n",
    "\n",
    "cwd = os.getcwd()\n",
    "if cwd[-5:] != \"Lab_3\":\n",
    "    os.chdir(\"/Users/efrainmartinez/Downloads/SBU/SBU_Spring_2024_Semester/AST443/Labs/AST_443/Lab_3\")"
   ]
  },
  {
   "cell_type": "code",
   "execution_count": 84,
   "id": "c6721594",
   "metadata": {
    "scrolled": false
   },
   "outputs": [],
   "source": [
    "# Importing the dark frames that were taken for Merak\n",
    "\n",
    "merak_dark_prefix = \"lab_3_dark_5_min.0000000\"\n",
    "merak_dark_suffix = \".DARK.FIT\"\n",
    "merak_dark_data = []\n",
    "merak_start = 0\n",
    "merak_end = 4\n",
    "\n",
    "for i in range(merak_start, merak_end+1, 1):\n",
    "    filename = merak_dark_prefix + str(i) + merak_dark_suffix\n",
    "    list = fits.open('calibration_images/'+filename)\n",
    "    image_data = list[0].data\n",
    "    merak_dark_data.append(image_data)\n",
    "        \n",
    "# Importing the dark frames that were taken for the galaxies (same exposure times)        \n",
    "gal_dark_prefix = \"lab_3_dark_25_min.0000000\"\n",
    "gal_dark_suffix = \".DARK.FIT\"\n",
    "gal_dark_data = []\n",
    "gal_start = 0\n",
    "gal_end = 1\n",
    "\n",
    "for i in range(gal_start, gal_end+1, 1):\n",
    "    filename = gal_dark_prefix + str(i) + gal_dark_suffix\n",
    "    list = fits.open('calibration_images/'+filename)\n",
    "    image_data = list[0].data\n",
    "    gal_dark_data.append(image_data)\n",
    "        \n",
    "# lamp_data = []\n",
    "# with fits.open('calibration_images/lab_3_ne_lamp.00000000.FIT') as file:\n",
    "#     plt.imshow(file[0].data, cmap='gray', vmax=9000)\n",
    "#     plt.colorbar()\n",
    "#     lamp_data.append(file[0].data)\n",
    "    \n",
    "    \n",
    "# Importing the flat fields that were taken for our observations (same for all)\n",
    "flat_prefix = \"lab_3_flat_2_min.0000000\"\n",
    "flat_suffix = \".FIT\"\n",
    "flat_data = []\n",
    "flat_start = 0\n",
    "flat_end = 3\n",
    "\n",
    "for i in range(flat_start, flat_end+1, 1):\n",
    "    ind = str(i)\n",
    "    filename = flat_prefix + str(i) + flat_suffix\n",
    "#     list = fits.open('flat_fields/'+filename)           -------------------- UNCOMMENT THIS\n",
    "    list = fits.open('calibration_images/'+filename)#           -------------------- DELETE THIS\n",
    "    image_data = list[0].data\n",
    "    flat_data.append(image_data)"
   ]
  },
  {
   "cell_type": "code",
   "execution_count": 85,
   "id": "dab6b6eb",
   "metadata": {},
   "outputs": [],
   "source": [
    "# Calculating the master dark frames for Merak and the Galaxies\n",
    "merak_master_dark = np.median(merak_dark_data, axis=0)\n",
    "gal_master_dark = np.median(gal_dark_data, axis=0)"
   ]
  },
  {
   "cell_type": "code",
   "execution_count": 86,
   "id": "2014f936",
   "metadata": {},
   "outputs": [],
   "source": [
    "names = [\"lab_3_merak_2_mins.0000000\", \"lab_3_m51_20_min.0000000\", \"lab_3_m82_25_mins.0000000\", \"lab_3_ne_lamp.0000000\", \"lab_3_empty_25_mins.0000000\"]\n",
    "image_names = [\"merak_images\", \"m51_images\", \"m82_images\", \"calibration_images\", \"calibration_images\"]\n",
    "\n",
    "starts = [0, 0, 0, 0, 3]#           -------------------- CORRECT THIS\n",
    "ends = [4, 3, 2, 0, 5]#           -------------------- CORRECT THIS\n",
    "image_end = \".FIT\"\n",
    "melark_data = []\n",
    "m51_data = []\n",
    "m82_data = []\n",
    "lamp_data = []\n",
    "sky_data = []\n",
    "total_data = [melark_data, m51_data, m82_data, lamp_data, sky_data]\n",
    "\n",
    "j = 0\n",
    "for image_prefix in names:\n",
    "    for i in range(starts[j], ends[j]+1, 1):\n",
    "        if image_prefix == \"lab_3_m51_20_min.0000000\" and i>0:\n",
    "            image_prefix = \"lab_3_m51_25_min.0000000\"\n",
    "        filename = image_prefix + str(i) + image_end\n",
    "        list = fits.open(image_names[j]+\"/\"+filename)\n",
    "        image_data = list[0].data\n",
    "        total_data[j].append(image_data)\n",
    "    j += 1\n",
    "# print(min(total_data[-1][0].flatten()))"
   ]
  },
  {
   "cell_type": "code",
   "execution_count": 87,
   "id": "317ebda9",
   "metadata": {},
   "outputs": [],
   "source": [
    "calib_totals = []\n",
    "merak_final = []\n",
    "m51_final = []\n",
    "m82_final = []\n",
    "lamp_final = []\n",
    "sky_final = []\n",
    "\n",
    "for i in range(0, len(total_data[0])):\n",
    "    calib_totals.append(total_data[0][i]-merak_master_dark)\n",
    "for j in range(1, 5):\n",
    "    for i in range(0, len(total_data[j])):\n",
    "        if j == 3:\n",
    "            calib_totals.append(total_data[j][i]-merak_master_dark)\n",
    "        else:\n",
    "            calib_totals.append(total_data[j][i]-gal_master_dark)\n",
    "\n",
    "merak_final = calib_totals[0:5]\n",
    "m51_final = calib_totals[5:9]\n",
    "m82_final = calib_totals[9:12]\n",
    "lamp_final = calib_totals[12:13]\n",
    "sky_final = calib_totals[13:]\n",
    "flat_final = flat_data - merak_master_dark\n",
    "\n",
    "sky_median = [np.median(sky_final, axis=0)]\n",
    "sky_mean = [np.mean(sky_final, axis=0)]\n",
    "\n",
    "\n",
    "for i in range(0, 255):\n",
    "    for j in range(0, 765):\n",
    "        if sky_median[0][i][j] < 0.0:      \n",
    "            sky_median[0][i][j] = np.mean(sky_median[0].flatten())\n",
    "            \n",
    "for i in range(0, 255):\n",
    "    for j in range(0, 765):\n",
    "        if sky_mean[0][i][j] < 0.0:\n",
    "            sky_mean[0][i][j] = np.mean(sky_mean[0].flatten())\n",
    "\n",
    "merak_final_med = [merak_final[x] - (sky_median[0])/12.5 for x in range(0, len(merak_final))]\n",
    "merak_final_mean = [merak_final[x] - (sky_mean[0])/12.5 for x in range(0, len(merak_final))]\n",
    "m51_final_med = [m51_final[x] - sky_median for x in range(0, len(m51_final))]\n",
    "m51_final_mean = [m51_final[x] - sky_mean for x in range(0, len(m51_final))]\n",
    "m82_final_med = [m82_final[x] - sky_median for x in range(0, len(m82_final))]\n",
    "m82_final_mean = [m82_final[x] - sky_mean for x in range(0, len(m82_final))]"
   ]
  },
  {
   "cell_type": "code",
   "execution_count": 88,
   "id": "e901f2ba",
   "metadata": {},
   "outputs": [
    {
     "name": "stdout",
     "output_type": "stream",
     "text": [
      "/Users/efrainmartinez/Downloads/SBU/SBU_Spring_2024_Semester/AST443/Labs/AST_443/Lab_3\n",
      "/Users/efrainmartinez/Downloads/SBU/SBU_Spring_2024_Semester/AST443/Labs/AST_443/Lab_3/calibrated_fits_files\n"
     ]
    }
   ],
   "source": [
    "cwd = os.getcwd()\n",
    "print(cwd)\n",
    "if cwd[-25:] != \"calibrated_fits_files\":\n",
    "    os.chdir(\"/Users/efrainmartinez/Downloads/SBU/SBU_Spring_2024_Semester/AST443/Labs/AST_443/Lab_3/calibrated_fits_files\")\n",
    "    cwd = os.getcwd()\n",
    "print(cwd)\n",
    "target_names = [\"merak_med.00\", \"merak_mean.00\", \"m51_med.00\", \"m51_mean.00\", \"m82_med.00\", \"m82_mean.00\", \"neon.00\", \"sky.00\", \"sky_med.00\", \"sky_mean.00\", \"flat.00\"]\n",
    "data = [merak_final_med, merak_final_mean, m51_final_med, m51_final_mean, m82_final_med, m82_final_mean, lamp_final, sky_final, sky_median, sky_mean, flat_data]\n",
    "j=0\n",
    "if os.path.exists(\"merak_med.000.FIT\") == True:\n",
    "    for image_prefix in target_names:\n",
    "        image_suffix = \".FIT\"\n",
    "        for i in range(0, len(data[j])):\n",
    "            hdu = fits.PrimaryHDU(data[j][i])\n",
    "            filename = image_prefix + str(i) + image_suffix\n",
    "            hdu.writeto(filename, overwrite=True)\n",
    "        j += 1"
   ]
  },
  {
   "cell_type": "code",
   "execution_count": 89,
   "id": "fc28e4cc",
   "metadata": {},
   "outputs": [],
   "source": [
    "# with fits.open(\"neon.000.FIT\") as file:\n",
    "#     image_data = file[0].data\n",
    "#     plt.imshow(image_data, cmap='gray', vmax=9000)\n",
    "#     plt.colorbar()"
   ]
  },
  {
   "cell_type": "code",
   "execution_count": 91,
   "id": "21cbf427",
   "metadata": {},
   "outputs": [
    {
     "name": "stdout",
     "output_type": "stream",
     "text": [
      "195075\n"
     ]
    },
    {
     "data": {
      "image/png": "[encoded data removed]",
      "text/plain": [
       "<Figure size 640x480 with 1 Axes>"
      ]
     },
     "metadata": {},
     "output_type": "display_data"
    }
   ],
   "source": [
    "with fits.open('sky_mean.000.FIT') as file:\n",
    "    data = file[0].data\n",
    "    flat_data = data.flatten()\n",
    "    print(len(flat_data))\n",
    "    x = np.linspace(0, len(flat_data), num=len(flat_data))\n",
    "    plt.plot(x, flat_data)"
   ]
  },
  {
   "cell_type": "code",
   "execution_count": null,
   "id": "cc3c6c7d",
   "metadata": {},
   "outputs": [],
   "source": []
  }
 ],
 "metadata": {
  "kernelspec": {
   "display_name": "Python 3 (ipykernel)",
   "language": "python",
   "name": "python3"
  },
  "language_info": {
   "codemirror_mode": {
    "name": "ipython",
    "version": 3
   },
   "file_extension": ".py",
   "mimetype": "text/x-python",
   "name": "python",
   "nbconvert_exporter": "python",
   "pygments_lexer": "ipython3",
   "version": "3.9.13"
  }
 },
 "nbformat": 4,
 "nbformat_minor": 5
}
