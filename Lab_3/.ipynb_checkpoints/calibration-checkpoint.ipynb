{
 "cells": [
  {
   "cell_type": "code",
   "execution_count": 1,
   "id": "245ef332",
   "metadata": {},
   "outputs": [],
   "source": [
    "import numpy as np\n",
    "import matplotlib.pyplot as plt\n",
    "from astropy.io import fits\n",
    "from scipy import stats\n",
    "import os\n",
    "\n",
    "cwd = os.getcwd()\n",
    "if cwd[-5:] != \"Lab_3\":\n",
    "    os.chdir(\"/Users/efrainmartinez/Downloads/SBU/SBU_Spring_2024_Semester/AST443/Labs/AST_443/Lab_3\")"
   ]
  },
  {
   "cell_type": "code",
   "execution_count": 3,
   "id": "c6721594",
   "metadata": {},
   "outputs": [],
   "source": [
    "# Importing the dark frames that were taken for Merak\n",
    "\n",
    "merak_dark_prefix = \"lab_3_dark_5_min.0000000\"\n",
    "merak_dark_suffix = \".DARK.FIT\"\n",
    "merak_dark_data = []\n",
    "merak_start = 0\n",
    "merak_end = 4\n",
    "\n",
    "for i in range(merak_start, merak_end+1, 1):\n",
    "    filename = merak_dark_prefix + str(i) + merak_dark_suffix\n",
    "    list = fits.open('calibration_images/'+filename)\n",
    "    image_data = list[0].data\n",
    "    merak_dark_data.append(image_data)\n",
    "        \n",
    "# Importing the dark frames that were taken for the galaxies (same exposure times)        \n",
    "gal_dark_prefix = \"lab_3_dark_25_min.0000000\"\n",
    "gal_dark_suffix = \".DARK.FIT\"\n",
    "gal_dark_data = []\n",
    "gal_start = 0\n",
    "gal_end = 1\n",
    "\n",
    "for i in range(gal_start, gal_end+1, 1):\n",
    "    filename = gal_dark_prefix + str(i) + gal_dark_suffix\n",
    "    list = fits.open('calibration_images/'+filename)\n",
    "    image_data = list[0].data\n",
    "    gal_dark_data.append(image_data)\n",
    "        \n",
    "# # Importing the flat fields that were taken for our observations (same for all)\n",
    "# flat_prefix = \"flat_field.0000000\"\n",
    "# flat_suffix = \".FIT\"\n",
    "# flat_data = []\n",
    "# flat_start = 0\n",
    "# flat_end = 9\n",
    "\n",
    "# for i in range(flat_start, flat_end+1, 1):\n",
    "#     ind = str(i)\n",
    "#     filename = flat_prefix + str(i) + flat_suffix\n",
    "# #     list = fits.open('flat_fields/'+filename)           -------------------- UNCOMMENT THIS\n",
    "#     list = fits.open('images/'+filename)#           -------------------- DELETE THIS\n",
    "#     image_data = list[0].data\n",
    "#     flat_data.append(image_data)"
   ]
  },
  {
   "cell_type": "code",
   "execution_count": 4,
   "id": "dab6b6eb",
   "metadata": {},
   "outputs": [],
   "source": [
    "# Calculating the master dark frames for Merak and the Galaxies\n",
    "merak_master_dark = np.median(merak_dark_data, axis=0)\n",
    "gal_master_dark = np.median(gal_dark_data, axis=0)\n",
    "\n",
    "# # Calculting the master flat field\n",
    "# median_flat = np.median(flat_data, axis=0)\n",
    "# median = np.median(median_flat)\n",
    "# master_flat = median_flat / median"
   ]
  },
  {
   "cell_type": "code",
   "execution_count": 41,
   "id": "2014f936",
   "metadata": {},
   "outputs": [],
   "source": [
    "names = [\"lab_3_merak_2_mins.0000000\", \"lab_3_m51_20_min.0000000\", \"lab_3_m82_25_mins.0000000\"]\n",
    "image_names = [\"merak_images\", \"m51_images\", \"m82_images\"]\n",
    "\n",
    "starts = [0, 0, 0]#           -------------------- CORRECT THIS\n",
    "ends = [4, 3, 2]#           -------------------- CORRECT THIS\n",
    "image_end = \".FIT\"\n",
    "melark_data = []\n",
    "m51_data = []\n",
    "m82_data = []\n",
    "total_data = [melark_data, m51_data, m82_data]\n",
    "\n",
    "j = 0\n",
    "for image_prefix in names:\n",
    "    for i in range(starts[j], ends[j]+1, 1):\n",
    "        if image_prefix == \"lab_3_m51_20_min.0000000\" and i>0:\n",
    "            image_prefix = \"lab_3_m51_25_min.0000000\"\n",
    "        filename = image_prefix + str(i) + image_end\n",
    "        list = fits.open(image_names[j]+\"/\"+filename)\n",
    "        image_data = list[0].data\n",
    "        total_data[j].append(image_data)\n",
    "    j += 1"
   ]
  },
  {
   "cell_type": "code",
   "execution_count": 56,
   "id": "317ebda9",
   "metadata": {},
   "outputs": [
    {
     "name": "stdout",
     "output_type": "stream",
     "text": [
      "(3, 255, 765)\n",
      "(12, 255, 765)\n"
     ]
    }
   ],
   "source": [
    "calib_totals = []\n",
    "merak_final = []\n",
    "m51_final = []\n",
    "m82_final = []\n",
    "\n",
    "print(np.shape(total_data[2]))\n",
    "for i in range(0, len(total_data[0])):\n",
    "    calib_totals.append(total_data[0][i]-merak_master_dark)\n",
    "for j in range(1, 3):\n",
    "    for i in range(0, len(total_data[j])):\n",
    "        calib_totals.append(total_data[j][i]-gal_master_dark)\n",
    "        \n",
    "print(np.shape(calib_totals))\n",
    "merak_final = calib_totals[0:5]\n",
    "m51_final = calib_totals[5:9]\n",
    "m82_final = calib_totals[9:12]"
   ]
  },
  {
   "cell_type": "code",
   "execution_count": 60,
   "id": "e901f2ba",
   "metadata": {},
   "outputs": [
    {
     "name": "stdout",
     "output_type": "stream",
     "text": [
      "/Users/efrainmartinez/Downloads/SBU/SBU_Spring_2024_Semester/AST443/Labs/AST_443/Lab_3/calibrated_fits_files\n",
      "/Users/efrainmartinez/Downloads/SBU/SBU_Spring_2024_Semester/AST443/Labs/AST_443/Lab_3/calibrated_fits_files\n"
     ]
    }
   ],
   "source": [
    "cwd = os.getcwd()\n",
    "print(cwd)\n",
    "if cwd[-25:] != \"calibrated_fits_files\":\n",
    "    os.chdir(\"/Users/efrainmartinez/Downloads/SBU/SBU_Spring_2024_Semester/AST443/Labs/AST_443/Lab_3/calibrated_fits_files\")\n",
    "    cwd = os.getcwd()\n",
    "print(cwd)\n",
    "target_names = [\"merak.00\", \"m51.00\", \"m82.00\"]\n",
    "data = [merak_final, m51_final, m82_final]\n",
    "j=0\n",
    "if os.path.exists(\"merak.000.FIT\") != True:\n",
    "    \n",
    "    for image_prefix in target_names:\n",
    "        image_suffix = \".FIT\"\n",
    "        for i in range(0, len(data[j])):\n",
    "            hdu = fits.PrimaryHDU(data[j][i])\n",
    "            filename = image_prefix + str(i) + image_suffix\n",
    "            hdu.writeto(filename, overwrite=True)\n",
    "        j += 1"
   ]
  }
 ],
 "metadata": {
  "kernelspec": {
   "display_name": "Python 3 (ipykernel)",
   "language": "python",
   "name": "python3"
  },
  "language_info": {
   "codemirror_mode": {
    "name": "ipython",
    "version": 3
   },
   "file_extension": ".py",
   "mimetype": "text/x-python",
   "name": "python",
   "nbconvert_exporter": "python",
   "pygments_lexer": "ipython3",
   "version": "3.9.13"
  }
 },
 "nbformat": 4,
 "nbformat_minor": 5
}
